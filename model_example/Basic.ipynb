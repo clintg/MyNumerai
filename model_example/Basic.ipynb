{
 "cells": [
  {
   "cell_type": "code",
   "execution_count": 1,
   "metadata": {
    "collapsed": false,
    "scrolled": true
   },
   "outputs": [
    {
     "name": "stdout",
     "output_type": "stream",
     "text": [
      "2.000000 should equal 2.0\n",
      "9.000000 should equal 9.0\n"
     ]
    }
   ],
   "source": [
    "import tensorflow as tf"
   ]
  },
  {
   "cell_type": "markdown",
   "metadata": {},
   "source": [
    "## Constant multiplication"
   ]
  },
  {
   "cell_type": "code",
   "execution_count": null,
   "metadata": {
    "collapsed": true
   },
   "outputs": [],
   "source": [
    "a = tf.placeholder(\"float\") # Create a symbolic variable 'a'\n",
    "b = tf.placeholder(\"float\") # Create a symbolic variable 'b'\n",
    "\n",
    "y = tf.mul(a, b) # multiply the symbolic variables\n",
    "\n",
    "with tf.Session() as sess: # create a session to evaluate the symbolic expressions\n",
    "    print(\"%f should equal 2.0\" % sess.run(y, feed_dict={a: 1, b: 2})) # eval expressions with parameters for a and b\n",
    "    print(\"%f should equal 9.0\" % sess.run(y, feed_dict={a: 3, b: 3}))"
   ]
  },
  {
   "cell_type": "markdown",
   "metadata": {},
   "source": [
    "## Matrix multiplication"
   ]
  },
  {
   "cell_type": "code",
   "execution_count": 3,
   "metadata": {
    "collapsed": false
   },
   "outputs": [
    {
     "name": "stdout",
     "output_type": "stream",
     "text": [
      "Result = [[ 2.  1.]\n",
      " [ 1.  2.]]\n"
     ]
    }
   ],
   "source": [
    "aM = tf.placeholder(tf.float32, shape=(2,2))\n",
    "bM = tf.placeholder(tf.float32, shape=(2,2))\n",
    "\n",
    "y = tf.matmul(aM, bM)\n",
    "\n",
    "with tf.Session() as sess: # create a session to evaluate the symbolic expressions\n",
    "    print(\"Result = %s\" % sess.run(y, feed_dict={aM: [[2,1],[1,2]], bM:  [[1,0],[0,1]]})) # eval expressions with parameters for a and b"
   ]
  },
  {
   "cell_type": "code",
   "execution_count": null,
   "metadata": {
    "collapsed": true
   },
   "outputs": [],
   "source": []
  }
 ],
 "metadata": {
  "anaconda-cloud": {},
  "kernelspec": {
   "display_name": "Python 3",
   "language": "python",
   "name": "python3"
  },
  "language_info": {
   "codemirror_mode": {
    "name": "ipython",
    "version": 3
   },
   "file_extension": ".py",
   "mimetype": "text/x-python",
   "name": "python",
   "nbconvert_exporter": "python",
   "pygments_lexer": "ipython3",
   "version": "3.5.2"
  }
 },
 "nbformat": 4,
 "nbformat_minor": 0
}
